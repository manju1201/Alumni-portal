{
 "cells": [
  {
   "cell_type": "code",
   "execution_count": 1,
   "metadata": {},
   "outputs": [
    {
     "name": "stdout",
     "output_type": "stream",
     "text": [
      "venkatesh-poojari-984007181\n"
     ]
    }
   ],
   "source": [
    "profile_link = 'https://www.linkedin.com/in/venkatesh-poojari-984007181/'\n",
    "profile_link = profile_link.replace('https://www.linkedin.com/in/','').replace('/','')\n",
    "print(profile_link)"
   ]
  },
  {
   "cell_type": "code",
   "execution_count": 2,
   "metadata": {},
   "outputs": [
    {
     "name": "stdout",
     "output_type": "stream",
     "text": [
      "{'summary': \"Experienced Member with a demonstrated history of working in the information technology and services industry. Skilled in C, C++, Python, Matplotlib, JavaScript, and Github. Strong operations professional with a Bachelor's degree focused on computer science engineering from the Indian Institute of Information Technology, SriCity.\", 'industryName': 'Computer Software', 'lastName': ' poojari', 'locationName': 'Srikakulam, Andhra Pradesh, India', 'student': False, 'geoCountryName': 'India', 'geoCountryUrn': 'urn:li:fs_geo:102713980', 'geoLocationBackfilled': True, 'elt': True, 'industryUrn': 'urn:li:fs_industry:4', 'firstName': ' venkatesh', 'entityUrn': 'urn:li:fs_profile:ACoAACrkxLQBUg0OEgyXh7XuHjWwVoVbKYZbvr4', 'geoLocation': {'geoUrn': 'urn:li:fs_geo:100327610'}, 'geoLocationName': 'Srikakulam, Andhra Pradesh', 'location': {'preferredGeoPlace': 'urn:li:fs_city:(in,1-18)', 'basicLocation': {'countryCode': 'in'}}, 'headline': 'Looking for summer internship', 'displayPictureUrl': 'https://media-exp1.licdn.com/dms/image/C5103AQGQGl3jd1UEsQ/profile-displayphoto-shrink_', 'profile_id': 'ACoAACrkxLQBUg0OEgyXh7XuHjWwVoVbKYZbvr4', 'experience': [{'locationName': 'sricity,andhra pradesh,india', 'entityUrn': 'urn:li:fs_position:(ACoAACrkxLQBUg0OEgyXh7XuHjWwVoVbKYZbvr4,1427652549)', 'geoLocationName': 'sricity,andhra pradesh,india', 'companyName': 'IOTA', 'timePeriod': {'startDate': {'month': 3, 'year': 2019}}, 'company': {'employeeCountRange': {'start': 51, 'end': 200}, 'industries': ['Information Technology and Services']}, 'title': 'Member', 'companyUrn': 'urn:li:fs_miniCompany:14449463', 'companyLogoUrl': 'https://media-exp1.licdn.com/dms/image/C510BAQGY_SS7T6GMug/company-logo_'}, {'entityUrn': 'urn:li:fs_position:(ACoAACrkxLQBUg0OEgyXh7XuHjWwVoVbKYZbvr4,1493629456)', 'companyName': 'Takenmind Inc.', 'timePeriod': {'endDate': {'month': 7, 'year': 2019}, 'startDate': {'month': 7, 'year': 2019}}, 'description': 'It was a online internship where I work as a data analyst using python. I have done project on Employee Attrition Problem. I get to know lots of things through this internship.', 'company': {'employeeCountRange': {'start': 51, 'end': 200}, 'industries': ['Computer Software']}, 'title': 'Data Analytics', 'companyUrn': 'urn:li:fs_miniCompany:13189012', 'companyLogoUrl': 'https://media-exp1.licdn.com/dms/image/C4D0BAQEQatBz-K3OFA/company-logo_'}], 'skills': [{'name': 'C (Programming Language)'}, {'name': 'Python (Programming Language)'}, {'name': 'js'}, {'name': 'Web Development'}, {'name': 'Machine Learning'}, {'name': 'HTML5'}, {'name': 'Cascading Style Sheets (CSS)'}, {'name': 'Linux'}, {'name': 'Git'}, {'name': 'Github'}, {'name': 'Microsoft Office'}, {'name': 'Adobe Photoshop'}, {'name': 'React.js'}, {'name': 'Django'}, {'name': 'MySQL'}], 'education': [{'entityUrn': 'urn:li:fs_education:(ACoAACrkxLQBUg0OEgyXh7XuHjWwVoVbKYZbvr4,579068732)', 'school': {'active': True, 'objectUrn': 'urn:li:school:40005', 'schoolName': 'Indian Institute of Information Technology, SriCity', 'entityUrn': 'urn:li:fs_miniSchool:40005', 'trackingId': 'gdprotC9STiaWl+8SR61Qg==', 'logoUrl': 'https://media-exp1.licdn.com/dms/image/C510BAQG6G6xJK3ZdaA/company-logo_'}, 'timePeriod': {'endDate': {'year': 2022}, 'startDate': {'year': 2018}}, 'degreeName': \"Bachelor's degree\", 'schoolName': 'Indian Institute of Information Technology, SriCity', 'fieldOfStudy': 'computer science engineering', 'degreeUrn': 'urn:li:fs_degree:200', 'schoolUrn': 'urn:li:fs_miniSchool:40005'}]}\n"
     ]
    }
   ],
   "source": [
    "from linkedin_api import Linkedin\n",
    "\n",
    "# Authenticate using any Linkedin account credentials\n",
    "api = Linkedin('poojariv53@gmail.com', 'marvm123')\n",
    "\n",
    "# GET a profile\n",
    "profile = api.get_profile(profile_link)\n",
    "print(profile)"
   ]
  },
  {
   "cell_type": "code",
   "execution_count": 3,
   "metadata": {},
   "outputs": [
    {
     "name": "stdout",
     "output_type": "stream",
     "text": [
      "Indian Institute of Information Technology, SriCity\n",
      "computer science engineering\n",
      "2022\n",
      "2018\n"
     ]
    }
   ],
   "source": [
    "# college name\n",
    "print(profile['education'][0]['schoolName'])\n",
    "# branch\n",
    "print(profile['education'][0]['fieldOfStudy'])\n",
    "# period in college\n",
    "print(profile['education'][0]['timePeriod']['endDate']['year'])\n",
    "print(profile['education'][0]['timePeriod']['startDate']['year'])"
   ]
  },
  {
   "cell_type": "code",
   "execution_count": 4,
   "metadata": {},
   "outputs": [
    {
     "name": "stdout",
     "output_type": "stream",
     "text": [
      "IOTA\n",
      "2019\n"
     ]
    }
   ],
   "source": [
    "# present company\n",
    "print(profile['experience'][0]['companyName'])\n",
    "# start year\n",
    "print(profile['experience'][0]['timePeriod']['startDate']['year'])"
   ]
  },
  {
   "cell_type": "code",
   "execution_count": 5,
   "metadata": {},
   "outputs": [
    {
     "name": "stdout",
     "output_type": "stream",
     "text": [
      "venkatesh  poojari\n",
      "India\n",
      "Srikakulam, Andhra Pradesh, India\n"
     ]
    }
   ],
   "source": [
    "# personal info\n",
    "print((profile['firstName'] +\" \"+ profile['lastName']).strip())\n",
    "print(profile['geoCountryName'])\n",
    "print(profile['locationName'])"
   ]
  },
  {
   "cell_type": "code",
   "execution_count": 6,
   "metadata": {},
   "outputs": [
    {
     "name": "stdout",
     "output_type": "stream",
     "text": [
      "http://www.linkedin.com/profile/view?id=ACoAACrkxLQBUg0OEgyXh7XuHjWwVoVbKYZbvr4\n"
     ]
    }
   ],
   "source": [
    "# link to profile url\n",
    "profile_url = 'http://www.linkedin.com/profile/view?id=' + profile['profile_id']\n",
    "print(profile_url)"
   ]
  },
  {
   "cell_type": "code",
   "execution_count": null,
   "metadata": {},
   "outputs": [],
   "source": []
  }
 ],
 "metadata": {
  "kernelspec": {
   "display_name": "Python 3",
   "language": "python",
   "name": "python3"
  },
  "language_info": {
   "codemirror_mode": {
    "name": "ipython",
    "version": 3
   },
   "file_extension": ".py",
   "mimetype": "text/x-python",
   "name": "python",
   "nbconvert_exporter": "python",
   "pygments_lexer": "ipython3",
   "version": "3.7.5"
  }
 },
 "nbformat": 4,
 "nbformat_minor": 2
}
