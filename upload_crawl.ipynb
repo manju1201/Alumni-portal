{
 "cells": [
  {
   "cell_type": "code",
   "execution_count": null,
   "metadata": {},
   "outputs": [],
   "source": [
    "profile_link = 'https://www.linkedin.com/in/venkatesh-poojari-984007181/'\n",
    "profile_link = profile_link.replace('https://www.linkedin.com/in/','').replace('/','')\n",
    "print(profile_link)"
   ]
  },
  {
   "cell_type": "code",
   "execution_count": null,
   "metadata": {},
   "outputs": [],
   "source": [
    "from linkedin_api import Linkedin\n",
    "\n",
    "# Authenticate using any Linkedin account credentials\n",
    "api = Linkedin(EMAIL_ID,PASSWORD)\n",
    "\n",
    "# GET a profile\n",
    "profile = api.get_profile(profile_link)\n",
    "print(profile)"
   ]
  },
  {
   "cell_type": "code",
   "execution_count": null,
   "metadata": {},
   "outputs": [],
   "source": [
    "# college name\n",
    "print(profile['education'][0]['schoolName'])\n",
    "# branch\n",
    "print(profile['education'][0]['fieldOfStudy'])\n",
    "# period in college\n",
    "print(profile['education'][0]['timePeriod']['endDate']['year'])\n",
    "print(profile['education'][0]['timePeriod']['startDate']['year'])"
   ]
  },
  {
   "cell_type": "code",
   "execution_count": null,
   "metadata": {},
   "outputs": [],
   "source": [
    "# present company\n",
    "print(profile['experience'][0]['companyName'])\n",
    "# start year\n",
    "print(profile['experience'][0]['timePeriod']['startDate']['year'])"
   ]
  },
  {
   "cell_type": "code",
   "execution_count": null,
   "metadata": {},
   "outputs": [],
   "source": [
    "# personal info\n",
    "print((profile['firstName'] +\" \"+ profile['lastName']).strip())\n",
    "print(profile['geoCountryName'])\n",
    "print(profile['locationName'])"
   ]
  },
  {
   "cell_type": "code",
   "execution_count": null,
   "metadata": {},
   "outputs": [],
   "source": [
    "# link to profile url\n",
    "profile_url = 'http://www.linkedin.com/profile/view?id=' + profile['profile_id']\n",
    "print(profile_url)"
   ]
  }
 ],
 "metadata": {
  "kernelspec": {
   "display_name": "Python 3",
   "language": "python",
   "name": "python3"
  },
  "language_info": {
   "codemirror_mode": {
    "name": "ipython",
    "version": 3
   },
   "file_extension": ".py",
   "mimetype": "text/x-python",
   "name": "python",
   "nbconvert_exporter": "python",
   "pygments_lexer": "ipython3",
   "version": "3.7.5"
  }
 },
 "nbformat": 4,
 "nbformat_minor": 2
}
